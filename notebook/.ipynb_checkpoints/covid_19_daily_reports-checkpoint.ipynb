{
 "cells": [
  {
   "cell_type": "markdown",
   "metadata": {
    "collapsed": true,
    "pycharm": {
     "name": "#%% md\n"
    }
   },
   "source": [
    "# COVID-19 reports parser\n",
    "\n",
    "The data is fetched from [GitHub](https://github.com/CSSEGISandData/COVID-19/tree/master/csse_covid_19_data).\n"
   ]
  },
  {
   "cell_type": "code",
   "execution_count": 2,
   "metadata": {
    "pycharm": {
     "name": "#%%\n"
    }
   },
   "outputs": [
    {
     "ename": "SyntaxError",
     "evalue": "invalid syntax (<ipython-input-2-fe86ae6794ba>, line 5)",
     "output_type": "error",
     "traceback": [
      "\u001b[0;36m  File \u001b[0;32m\"<ipython-input-2-fe86ae6794ba>\"\u001b[0;36m, line \u001b[0;32m5\u001b[0m\n\u001b[0;31m    from ..parser/src/parser import Parser\u001b[0m\n\u001b[0m                 ^\u001b[0m\n\u001b[0;31mSyntaxError\u001b[0m\u001b[0;31m:\u001b[0m invalid syntax\n"
     ]
    }
   ],
   "source": [
    "import logging\n",
    "\n",
    "import importlib.util\n",
    "spec = importlib.util.spec_from_file_location(\"module.name\", \"/path/to/file.py\")\n",
    "\n",
    "from github import Github\n",
    "\n",
    "from ..parser/src/parser import Parser\n",
    "from ..parser/src/storage import StorageConnectionConfig, Storage\n",
    "\n",
    "\n",
    "logging.basicConfig(level=logging.INFO)\n",
    "\n",
    "github = Github('4d8797a678cf7a193dd69ca8e21b95989f142787')\n",
    "connection_config = StorageConnectionConfig(\n",
    "    driver='postgres',\n",
    "    host='127.0.0.1',\n",
    "    port=5432,\n",
    "    schema='covid_19',\n",
    "    user='admin',\n",
    "    password='LGJlnSB55cntxfOcwv4klVTXIWwG+G1X'\n",
    ")\n",
    "storage = Storage(connection_config)\n",
    "last_update_date = storage.get_last_update_date()\n",
    "\n",
    "# We need to remove last available report to eliminate possibility of inserting duplicates for this day\n",
    "storage.delete_report(last_update_date)\n",
    "\n",
    "parser = Parser(github, last_update_date)\n",
    "\n",
    "for status_report in parser.parse():\n",
    "    storage.save_daily_report(status_report)\n"
   ]
  }
 ],
 "metadata": {
  "kernelspec": {
   "display_name": "Python 3",
   "language": "python",
   "name": "python3"
  },
  "language_info": {
   "codemirror_mode": {
    "name": "ipython",
    "version": 3
   },
   "file_extension": ".py",
   "mimetype": "text/x-python",
   "name": "python",
   "nbconvert_exporter": "python",
   "pygments_lexer": "ipython3",
   "version": "3.7.5"
  },
  "pycharm": {
   "stem_cell": {
    "cell_type": "raw",
    "metadata": {
     "collapsed": false
    },
    "source": []
   }
  }
 },
 "nbformat": 4,
 "nbformat_minor": 1
}
